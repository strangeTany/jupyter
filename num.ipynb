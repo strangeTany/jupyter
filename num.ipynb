{
 "cells": [
  {
   "cell_type": "code",
   "execution_count": 2,
   "metadata": {},
   "outputs": [],
   "source": [
    "from keras.datasets import mnist # subroutines for fetching the MNIST dataset\n",
    "from keras.models import Model # basic class for specifying and training a neural network\n",
    "from keras.layers import Input, Dense # the two types of neural network layer we will be using\n",
    "from keras.utils import np_utils # utilities for one-hot encoding of ground truth values"
   ]
  },
  {
   "cell_type": "code",
   "execution_count": 3,
   "metadata": {},
   "outputs": [],
   "source": [
    "batch_size = 128 # in each iteration, we consider 128 training examples at once\n",
    "num_epochs = 20 # we iterate twenty times over the entire training set\n",
    "hidden_size = 512 # there will be 512 neurons in both hidden layers"
   ]
  },
  {
   "cell_type": "code",
   "execution_count": 4,
   "metadata": {},
   "outputs": [],
   "source": [
    "num_train = 60000 # there are 60000 training examples in MNIST\n",
    "num_test = 10000 # there are 10000 test examples in MNIST\n",
    "\n",
    "height, width, depth = 28, 28, 1 # MNIST images are 28x28 and greyscale\n",
    "num_classes = 10 # there are 10 classes (1 per digit)\n",
    "\n",
    "(X_train, y_train), (X_test, y_test) = mnist.load_data() # fetch MNIST data\n",
    "\n",
    "X_train = X_train.reshape(num_train, height * width) # Flatten data to 1D\n",
    "X_test = X_test.reshape(num_test, height * width) # Flatten data to 1D\n",
    "X_train = X_train.astype('float32') \n",
    "X_test = X_test.astype('float32')\n",
    "X_train /= 255 # Normalise data to [0, 1] range\n",
    "X_test /= 255 # Normalise data to [0, 1] range\n",
    "\n",
    "Y_train = np_utils.to_categorical(y_train, num_classes) # One-hot encode the labels\n",
    "Y_test = np_utils.to_categorical(y_test, num_classes) # One-hot encode the labels"
   ]
  },
  {
   "cell_type": "code",
   "execution_count": 6,
   "metadata": {},
   "outputs": [],
   "source": [
    "inp = Input(shape=(height * width,)) # Our input is a 1D vector of size 784\n",
    "hidden_1 = Dense(hidden_size, activation='relu')(inp) # First hidden ReLU layer\n",
    "hidden_2 = Dense(hidden_size, activation='relu')(hidden_1) # Second hidden ReLU layer\n",
    "out = Dense(num_classes, activation='softmax')(hidden_2) # Output softmax layer\n",
    "\n",
    "model = Model(inputs=inp, outputs=out) # To define a model, just specify its input and output layers"
   ]
  },
  {
   "cell_type": "code",
   "execution_count": 7,
   "metadata": {},
   "outputs": [],
   "source": [
    "model.compile(loss='categorical_crossentropy', # using the cross-entropy loss function\n",
    "              optimizer='adam', # using the Adam optimiser\n",
    "              metrics=['accuracy']) # reporting the accuracy"
   ]
  },
  {
   "cell_type": "code",
   "execution_count": 8,
   "metadata": {},
   "outputs": [
    {
     "name": "stderr",
     "output_type": "stream",
     "text": [
      "C:\\Users\\Tanya\\Anaconda3\\lib\\site-packages\\ipykernel_launcher.py:3: UserWarning: The `nb_epoch` argument in `fit` has been renamed `epochs`.\n",
      "  This is separate from the ipykernel package so we can avoid doing imports until\n"
     ]
    },
    {
     "name": "stdout",
     "output_type": "stream",
     "text": [
      "Train on 54000 samples, validate on 6000 samples\n",
      "Epoch 1/20\n",
      "54000/54000 [==============================] - 14s 260us/step - loss: 0.2308 - acc: 0.9320 - val_loss: 0.1120 - val_acc: 0.9665\n",
      "Epoch 2/20\n",
      "54000/54000 [==============================] - 13s 238us/step - loss: 0.0843 - acc: 0.9736 - val_loss: 0.0740 - val_acc: 0.9767\n",
      "Epoch 3/20\n",
      "54000/54000 [==============================] - 13s 247us/step - loss: 0.0535 - acc: 0.9834 - val_loss: 0.0667 - val_acc: 0.9810\n",
      "Epoch 4/20\n",
      "54000/54000 [==============================] - 13s 240us/step - loss: 0.0365 - acc: 0.9882 - val_loss: 0.0710 - val_acc: 0.9798\n",
      "Epoch 5/20\n",
      "54000/54000 [==============================] - 12s 230us/step - loss: 0.0269 - acc: 0.9910 - val_loss: 0.0771 - val_acc: 0.9782\n",
      "Epoch 6/20\n",
      "54000/54000 [==============================] - 13s 244us/step - loss: 0.0246 - acc: 0.9917 - val_loss: 0.0817 - val_acc: 0.9782\n",
      "Epoch 7/20\n",
      "54000/54000 [==============================] - 13s 242us/step - loss: 0.0168 - acc: 0.9946 - val_loss: 0.0751 - val_acc: 0.9802\n",
      "Epoch 8/20\n",
      "54000/54000 [==============================] - 13s 245us/step - loss: 0.0186 - acc: 0.9939 - val_loss: 0.0796 - val_acc: 0.9800\n",
      "Epoch 9/20\n",
      "54000/54000 [==============================] - 13s 245us/step - loss: 0.0167 - acc: 0.9945 - val_loss: 0.0701 - val_acc: 0.9817\n",
      "Epoch 10/20\n",
      "54000/54000 [==============================] - 13s 243us/step - loss: 0.0112 - acc: 0.9960 - val_loss: 0.0900 - val_acc: 0.9817\n",
      "Epoch 11/20\n",
      "54000/54000 [==============================] - 13s 245us/step - loss: 0.0121 - acc: 0.9962 - val_loss: 0.0861 - val_acc: 0.9800\n",
      "Epoch 12/20\n",
      "54000/54000 [==============================] - 13s 246us/step - loss: 0.0124 - acc: 0.9963 - val_loss: 0.0885 - val_acc: 0.9807\n",
      "Epoch 13/20\n",
      "54000/54000 [==============================] - 13s 246us/step - loss: 0.0130 - acc: 0.9958 - val_loss: 0.0812 - val_acc: 0.9813\n",
      "Epoch 14/20\n",
      "54000/54000 [==============================] - 13s 246us/step - loss: 0.0072 - acc: 0.9977 - val_loss: 0.0792 - val_acc: 0.9817\n",
      "Epoch 15/20\n",
      "54000/54000 [==============================] - 13s 248us/step - loss: 0.0104 - acc: 0.9964 - val_loss: 0.0789 - val_acc: 0.9830\n",
      "Epoch 16/20\n",
      "54000/54000 [==============================] - 13s 244us/step - loss: 0.0093 - acc: 0.9969 - val_loss: 0.0997 - val_acc: 0.9785\n",
      "Epoch 17/20\n",
      "54000/54000 [==============================] - 13s 247us/step - loss: 0.0083 - acc: 0.9975 - val_loss: 0.0912 - val_acc: 0.9818\n",
      "Epoch 18/20\n",
      "54000/54000 [==============================] - 13s 248us/step - loss: 0.0083 - acc: 0.9973 - val_loss: 0.0818 - val_acc: 0.9838\n",
      "Epoch 19/20\n",
      "54000/54000 [==============================] - 13s 247us/step - loss: 0.0069 - acc: 0.9976 - val_loss: 0.0984 - val_acc: 0.9802\n",
      "Epoch 20/20\n",
      "54000/54000 [==============================] - 15s 269us/step - loss: 0.0104 - acc: 0.9966 - val_loss: 0.1189 - val_acc: 0.9805\n",
      "10000/10000 [==============================] - 2s 157us/step\n"
     ]
    },
    {
     "data": {
      "text/plain": [
       "[0.11926831444398435, 0.9788]"
      ]
     },
     "execution_count": 8,
     "metadata": {},
     "output_type": "execute_result"
    }
   ],
   "source": [
    "model.fit(X_train, Y_train, # Train the model using the training set...\n",
    "          batch_size=batch_size, epochs=num_epochs,\n",
    "          verbose=1, validation_split=0.1) # ...holding out 10% of the data for validation\n",
    "model.evaluate(X_test, Y_test, verbose=1) # Evaluate the trained model on the test set!"
   ]
  },
  {
   "cell_type": "code",
   "execution_count": null,
   "metadata": {},
   "outputs": [],
   "source": []
  }
 ],
 "metadata": {
  "kernelspec": {
   "display_name": "Python 3",
   "language": "python",
   "name": "python3"
  },
  "language_info": {
   "codemirror_mode": {
    "name": "ipython",
    "version": 3
   },
   "file_extension": ".py",
   "mimetype": "text/x-python",
   "name": "python",
   "nbconvert_exporter": "python",
   "pygments_lexer": "ipython3",
   "version": "3.6.5"
  }
 },
 "nbformat": 4,
 "nbformat_minor": 2
}
